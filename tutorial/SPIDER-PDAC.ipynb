{
 "cells": [
  {
   "cell_type": "code",
   "execution_count": null,
   "metadata": {},
   "outputs": [],
   "source": [
    "import os\n",
    "import sys\n",
    "root_dir = os.path.join(os.getcwd(), '../../')\n",
    "if root_dir not in sys.path:\n",
    "    sys.path.append(root_dir)\n",
    "from spider_local import SPIDER\n",
    "%reload_ext autoreload\n",
    "%autoreload 2\n",
    "op = SPIDER()\n",
    "import anndata\n",
    "import scanpy as sc\n",
    "import pandas as pd\n",
    "import numpy as np\n"
   ]
  },
  {
   "cell_type": "code",
   "execution_count": null,
   "metadata": {},
   "outputs": [],
   "source": [
    "adata = anndata.read_h5ad('./adata.h5ad')\n",
    "adata"
   ]
  },
  {
   "cell_type": "code",
   "execution_count": null,
   "metadata": {},
   "outputs": [],
   "source": [
    "out_f # where to put the results\n",
    "R_path # path to your R executor"
   ]
  },
  {
   "cell_type": "code",
   "execution_count": null,
   "metadata": {},
   "outputs": [],
   "source": [
    "idata = op.prep(adata, out_f, R_path, cluster_key='cluster', is_human=True, coord_type='grid', no_spatalk=False)"
   ]
  },
  {
   "cell_type": "code",
   "execution_count": null,
   "metadata": {},
   "outputs": [],
   "source": [
    "idata, meta_idata = op.find_svi(idata, out_f, R_path, alpha=0.3)"
   ]
  },
  {
   "cell_type": "code",
   "execution_count": null,
   "metadata": {},
   "outputs": [],
   "source": [
    "svi_df, svi_df_strict = op.svi.combine_SVI(idata,threshold=0.01)\n",
    "op.svi.eva_SVI(idata, svi_df_strict)"
   ]
  },
  {
   "cell_type": "code",
   "execution_count": null,
   "metadata": {},
   "outputs": [],
   "source": [
    "op.vis.pattern_LRI(idata,show_SVI=10)\n",
    "plt.tight_layout()"
   ]
  },
  {
   "cell_type": "code",
   "execution_count": null,
   "metadata": {},
   "outputs": [],
   "source": [
    "adata_copy = adata.copy()\n",
    "sc.pp.normalize_total(adata_copy, target_sum=1e4)\n",
    "sc.pp.log1p(adata_copy)\n",
    "sc.pp.highly_variable_genes(adata_copy, flavor='seurat_v3', n_top_genes=5000)\n",
    "genes = adata_copy[:, adata_copy.var.highly_variable].var_names.values[:5000]\n",
    "\n",
    "sq.gr.spatial_neighbors(adata, key_added='spatial')\n",
    "sq.gr.spatial_autocorr(\n",
    "    adata,\n",
    "    genes=genes,\n",
    "    mode=\"moran\",\n",
    "    n_perms=1000,\n",
    "    n_jobs=10,\n",
    ")\n",
    "merged_df,lri_pw_list,gene_lr_list,gene_pw_list = op.vis.svg_svi_relation(adata, idata, title='PDAC', is_human=False, top=50)\n"
   ]
  },
  {
   "cell_type": "code",
   "execution_count": null,
   "metadata": {},
   "outputs": [],
   "source": [
    "op.util.interaction_spot_interface(idata)\n",
    "adata_lri = anndata.AnnData(idata.uns['cell_score'].loc[adata.obs_names])\n",
    "adata_lri.obs=adata.obs\n",
    "adata_lri.obsm['spatial'] = adata.obsm['spatial']\n",
    "st_decon = adata.obsm['deconvolution']\n",
    "st_decon_org = st_decon.copy()"
   ]
  },
  {
   "cell_type": "code",
   "execution_count": null,
   "metadata": {},
   "outputs": [],
   "source": [
    "decon_corr = pd.concat([st_decon, adata_lri.to_df()], axis=1).corr()[adata_lri.var_names].loc[st_decon.columns].T\n",
    "decon_corr_sup = decon_corr.loc[decon_corr.idxmax()] \n",
    "decon_corr = decon_corr[decon_corr_sup.columns[np.argsort(-decon_corr_sup.to_numpy().diagonal())]]\n",
    "decon_corr_sup = decon_corr.loc[decon_corr.idxmax()] "
   ]
  },
  {
   "cell_type": "code",
   "execution_count": null,
   "metadata": {},
   "outputs": [],
   "source": [
    "plt.rcParams.update({'font.size': 18})\n",
    "st_decon = st_decon_org.copy()\n",
    "celtypes = decon_corr_sup.columns\n",
    "st_decon = pd.concat([idata.uns['cell_meta'][['x', 'y']], st_decon], axis=1)\n",
    "plt.figure(figsize=(len(celtypes)*4, 8))\n",
    "base = 1\n",
    "for i in celtypes:\n",
    "    plt.subplot(2, len(celtypes), base)\n",
    "    # sns.scatterplot(st_decon, x='x', y='y', hue=i, s=10, linewidth=0)\n",
    "    im=plt.scatter(st_decon['x'],st_decon['y'], c=st_decon[i], s=50, cmap='plasma')\n",
    "    plt.colorbar(im,fraction=0.046, pad=0.04)\n",
    "\n",
    "    plt.axis('equal')\n",
    "    plt.axis('off')\n",
    "    plt.title(i.replace('_', ' '))\n",
    "    base += 1\n",
    "    \n",
    "corrs = decon_corr_sup.to_numpy().diagonal()\n",
    "\n",
    "marker_score = adata_lri.to_df()[decon_corr_sup.index]\n",
    "marker_score = pd.concat([adata_lri.obs[['x', 'y']], marker_score], axis=1)\n",
    "for i in range(len(decon_corr_sup.index)):\n",
    "    plt.subplot(2, len(celtypes), base)\n",
    "    im=plt.scatter(marker_score['x'],marker_score['y'], c=marker_score[decon_corr_sup.index[i]].to_numpy(), s=50, cmap='plasma')\n",
    "    # sns.scatterplot(marker_score, x='x', y='y', hue=i, s=10, linewidth=0)\n",
    "    plt.colorbar(im,fraction=0.046, pad=0.04)\n",
    "    plt.axis('equal')\n",
    "    plt.axis('off')\n",
    "    plt.title(f'{decon_corr_sup.index[i]} \\n corr={\"%.3f\" % corrs[i]}')\n",
    "    base += 1\n",
    "\n",
    "plt.tight_layout()"
   ]
  }
 ],
 "metadata": {
  "kernelspec": {
   "display_name": "spider1",
   "language": "python",
   "name": "python3"
  },
  "language_info": {
   "codemirror_mode": {
    "name": "ipython",
    "version": 3
   },
   "file_extension": ".py",
   "mimetype": "text/x-python",
   "name": "python",
   "nbconvert_exporter": "python",
   "pygments_lexer": "ipython3",
   "version": "3.9.16"
  },
  "orig_nbformat": 4
 },
 "nbformat": 4,
 "nbformat_minor": 2
}
